{
 "cells": [
  {
   "cell_type": "markdown",
   "id": "8444d186",
   "metadata": {},
   "source": [
    "# Onderzoeksvragen\n",
    "\n",
    "1. **In hoeverre is de prijs van de rit te voorspellen op basis van de andere kenmerken?**\n",
    "   - Gebruik taxi-data uit andere landen of bekijk de invloed van het weer.\n",
    "\n",
    "Deze onderzoeksvraag richt zich op het onderzoeken van factoren die de prijs van een taxirit beïnvloeden.\n",
    "Hierbij kunnen we gebruik maken van verschillende kenmerken zoals afstand en het type taxi. Door middel van regressiemodellen kunnen we de relatie tussen deze kenmerken en de ritprijs analyseren.\n",
    "\n",
    "2. **In hoeverre is het mogelijk om logische clusters te vinden o.b.v. onder andere de prijs, afstand en type taxi?**\n",
    "   - Zijn er hele dure auto's waar korte ritjes mee gedaan worden?\n",
    "   - Of zijn er juist goedkopere auto's met langere ritten?\n",
    "   - Of zijn er juist clusters te vinden op basis van de tijd of de plaats?"
   ]
  },
  {
   "cell_type": "markdown",
   "id": "30d47eee",
   "metadata": {},
   "source": [
    "## Onderzoeksvraag 1\n",
    "\n",
    "1. **In hoeverre is de prijs van de rit te voorspellen op basis van de andere kenmerken?**\n",
    "   \n",
    "In dit segment onderzoeken we welke kenmerken in onze dataset kunnen bijdragen aan het ontwikkelen van een model dat de prijs van een taxirit nauwkeurig kan voorspellen.\n",
    "Omdat wij de categorie \"price\" willen gaan predicten gaan wij een regressie model toepassen.\n",
    "\n",
    "- <a href=\"#L_importeren\">Librarys importeren</a>\n",
    "- <a href=\"#Data_analyse\">Data-analyse</a>\n",
    "- <a href=\"#Data_preprocessing\">Data-preprocessing</a>\n",
    "- <a href=\"#Model_creeren\">Model creëren</a>\n",
    "- <a href=\"#Model_evalueren\">Model evalueren</a>"
   ]
  },
  {
   "cell_type": "markdown",
   "id": "cd3d80ad",
   "metadata": {},
   "source": [
    "<a id =\"L_importeren\"></a>\n",
    "### Librarys importeren"
   ]
  },
  {
   "cell_type": "code",
   "execution_count": 23,
   "id": "24f84c9f-0652-442b-a531-9b4018570934",
   "metadata": {},
   "outputs": [],
   "source": [
    "from IPython.display import display\n",
    "from sklearn.preprocessing import LabelEncoder\n",
    "from sklearn.tree import DecisionTreeRegressor \n",
    "from sklearn.ensemble import RandomForestRegressor  # Import RandomForestRegressor\n",
    "from sklearn.model_selection import GridSearchCV, train_test_split\n",
    "from sklearn.metrics import mean_absolute_error, mean_squared_error, r2_score\n",
    "from sklearn.metrics import accuracy_score, confusion_matrix\n",
    "import matplotlib.pyplot as plt\n",
    "import seaborn as sns\n",
    "import numpy as np\n",
    "import seaborn as sns \n",
    "import pandas as pd\n"
   ]
  },
  {
   "cell_type": "code",
   "execution_count": null,
   "id": "58ca3d53",
   "metadata": {},
   "outputs": [],
   "source": [
    "df = pd.read_csv(\"taxi_dataset.csv\")\n",
    "df.head()"
   ]
  },
  {
   "cell_type": "markdown",
   "id": "ccfe63c9",
   "metadata": {
    "tags": [
     "ass"
    ]
   },
   "source": [
    "### Data Analyze"
   ]
  },
  {
   "cell_type": "code",
   "execution_count": null,
   "id": "0bb1efba-559f-465f-842e-3a5c00acf28c",
   "metadata": {},
   "outputs": [],
   "source": [
    "gemiddelde_waarden = df[['price', 'distance', 'surge_multiplier']].mean()\n",
    "\n",
    "# Print de gemiddelde waarden\n",
    "print(\"Gemiddelde waarden in de dataset:\")\n",
    "print(gemiddelde_waarden)\n",
    "\n",
    "# Gemiddelde prijs per type taxi\n",
    "gemiddelde_prijs_per_type = df.groupby('name')['price'].mean()\n",
    "\n",
    "# Print de gemiddelde prijs per type taxi\n",
    "print(\"\\nGemiddelde prijs per type taxi:\")\n",
    "print(gemiddelde_prijs_per_type)"
   ]
  },
  {
   "cell_type": "markdown",
   "id": "6d2a1558-0e06-4b21-b8a6-283579e69ca4",
   "metadata": {},
   "source": [
    "Afhankelijke variabele:\n",
    "\n",
    "Price: Dit is de variabele die je probeert te voorspellen of te verklaren, dus het is de afhankelijke variabele.\n",
    "\n",
    "Onafhankelijke variabelen:\n",
    "\n",
    "Dit zijn de variabelen die kunnen helpen bij het voorspellen van de prijs.\n",
    "\n",
    "Surge_multiplier: Een verhogingsfactor die aangeeft of er een toeslag is toegepast op de ritprijs.\n",
    "Timestamp: De UNIX-tijdstempel die aangeeft wanneer de rit plaatsvond.\n",
    "Datetime: De datum en tijd waarop de rit plaatsvond (afgeleid van de timestamp).\n",
    "Timezone: De tijdzone waarin de rit plaatsvond.\n",
    "Source: De vertrekplaats van de rit.\n",
    "Destination: De bestemming van de rit.\n",
    "Latitude: De breedtegraad van de locatie (mogelijk relevant voor ruimtelijke analyse).\n",
    "Longitude: De lengtegraad van de locatie.\n",
    "Distance: De afstand van de rit.\n",
    "Name (type of taxi): Het type taxi dat werd gebruikt (bijvoorbeeld UberX, Black SUV)."
   ]
  },
  {
   "cell_type": "markdown",
   "id": "5c1fbd1e-d1d1-408d-8acc-70187f6e9381",
   "metadata": {},
   "source": [
    "meetniveau\n",
    "1. Price: Ratio \n",
    "2. Surge_multiplier: Ratio\n",
    "3. Timestamp: Interval\n",
    "4. Datetime: Interval\n",
    "5. Timezone: Nominaal\n",
    "6. Source: Nominaal\n",
    "7. Destination: Nominaal\n",
    "8. Latitude: Interval\n",
    "9. Longitude: Interval\n",
    "10. Distance: Ratio\n",
    "11. Name (type of taxi): Nominaal"
   ]
  },
  {
   "cell_type": "code",
   "execution_count": null,
   "id": "995e76cd-aa71-4d28-9882-b5ed08cdee0b",
   "metadata": {},
   "outputs": [],
   "source": [
    "# Controleer of er missende waarden zijn in de dataset\n",
    "missing_values = df.isnull().sum()\n",
    "\n",
    "# Print het aantal missende waarden per kolom\n",
    "print(\"Aantal missende waarden per kolom:\")\n",
    "print(missing_values)"
   ]
  },
  {
   "cell_type": "code",
   "execution_count": null,
   "id": "87f5d423-61cb-4a3f-bddc-ccd531724671",
   "metadata": {},
   "outputs": [],
   "source": [
    "# Filter de rijen waar de prijs ontbreekt\n",
    "missende_prijs = df[df['price'].isnull()]\n",
    "\n",
    "# Bekijk de verschillende taxitypes waarbij de prijs ontbreekt\n",
    "taxitypes_met_missende_prijs = missende_prijs['name'].value_counts()\n",
    "\n",
    "# Print de resultaten\n",
    "print(\"Taxitypes waarbij de prijs ontbreekt en hoe vaak dat voorkomt:\")\n",
    "print(taxitypes_met_missende_prijs)\n"
   ]
  },
  {
   "cell_type": "code",
   "execution_count": null,
   "id": "44595402-4463-411c-93d1-ca8f55cc5fd8",
   "metadata": {},
   "outputs": [],
   "source": [
    "# Aantal unieke waarden en frequenties voor 'timezone'\n",
    "timezone_counts = df['timezone'].value_counts()\n",
    "print(\"Aantal voor 'timezone':\")\n",
    "print(timezone_counts)\n",
    "print(\"\\nAantal unieke 'timezone' waarden:\", df['timezone'].nunique())\n",
    "\n",
    "# Aantal unieke waarden en frequenties voor 'source'\n",
    "source_counts = df['source'].value_counts()\n",
    "print(\"\\nAantal voor 'source':\")\n",
    "print(source_counts)\n",
    "print(\"\\nAantal unieke 'source' waarden:\", df['source'].nunique())\n",
    "\n",
    "# Aantal unieke waarden en frequenties voor 'destination'\n",
    "destination_counts = df['destination'].value_counts()\n",
    "print(\"\\nAantal voor 'destination':\")\n",
    "print(destination_counts)\n",
    "print(\"\\nAantal unieke 'destination' waarden:\", df['destination'].nunique())\n",
    "\n",
    "# # Maak een nieuwe kolom die het unieke paar van latitude en longitude combineert\n",
    "# df['lat_lon'] = df[['latitude', 'longitude']].astype(str).agg(','.join, axis=1)\n",
    "\n",
    "# # Tel het aantal unieke lat_lon paren en hun frequenties\n",
    "# unique_lat_lon_counts = df['lat_lon'].value_counts()\n",
    "\n",
    "# # Print de resultaten\n",
    "# print(\"Aantal unieke latitude-longitude paren en hun frequenties:\")\n",
    "# print(unique_lat_lon_counts)\n",
    "# print(\"\\nAantal unieke 'latitude-longitude' waarden:\", df['lat_lon'].nunique())"
   ]
  },
  {
   "cell_type": "code",
   "execution_count": null,
   "id": "a85705cf-5132-40e9-a7de-4fb01d91f85c",
   "metadata": {},
   "outputs": [],
   "source": [
    "# Vervang 'UberXL' door het type taxi waarvoor je rijen wilt zien\n",
    "taxi_type = 'Taxi'\n",
    "\n",
    "# Filter de dataset op het opgegeven type taxi\n",
    "taxi_df = df[df['name'] == taxi_type]\n",
    "\n",
    "# Toon 5 willekeurige rijen van dit type taxi\n",
    "sample_rows = taxi_df.sample(n=5, random_state=42)  # random_state zorgt voor reproduceerbaarheid\n",
    "\n",
    "print(f\"Vijf willekeurige rijen voor taxi type '{taxi_type}':\")\n",
    "print(sample_rows)"
   ]
  },
  {
   "cell_type": "markdown",
   "id": "50e5f347",
   "metadata": {},
   "source": [
    "Als eerst gaan we op ongefilterde data een analyze doen"
   ]
  },
  {
   "cell_type": "code",
   "execution_count": 28,
   "id": "7642fe54",
   "metadata": {},
   "outputs": [],
   "source": [
    "label_encoder = LabelEncoder()\n",
    "\n",
    "complete_df_encoded = df.copy()\n",
    "for column in complete_df_encoded.columns:\n",
    "    if complete_df_encoded[column].dtype == 'object':\n",
    "        complete_df_encoded[column] = label_encoder.fit_transform(complete_df_encoded[column])"
   ]
  },
  {
   "cell_type": "code",
   "execution_count": null,
   "id": "609c5112",
   "metadata": {},
   "outputs": [],
   "source": [
    "complete_df_encoded.boxplot(column='price', by='name', figsize=(10, 6))"
   ]
  },
  {
   "cell_type": "markdown",
   "id": "c86ceda0",
   "metadata": {},
   "source": [
    "Zoals te zien is in deze boxplot, zijn er veel 'fliers', oftewel uitschieters. Deze uitschieters zullen tijdens het preprocessen worden verwijderd om betere voorspellingsresultaten te verkrijgen. Uitschieters kunnen namelijk invloed hebben op de helling van het regressiemodel.\n",
    "\n",
    "**Kolommen die worden verwijderd:**\n",
    "- Id: De kolom Id is voor elke rij uniek. Dit komt waarschijnlijk doordat de dataset uit een database is gehaald.\n",
    "- Surge multiplier en timezone: Deze kolommen zijn constant en dragen daarom niet bij aan de voorspelling van onze decision trees.\n",
    "- Datetime: De kolom datetime bevat dezelfde informatie als timestamp, maar dan geformatteerd als een datetime-object."
   ]
  },
  {
   "cell_type": "code",
   "execution_count": null,
   "id": "7533aca2",
   "metadata": {},
   "outputs": [],
   "source": [
    "\n",
    "sns.pairplot(complete_df_encoded.drop(columns=[\"id\", \"surge_multiplier\", \"timezone\", \"datetime\"]))"
   ]
  },
  {
   "cell_type": "code",
   "execution_count": null,
   "id": "cfcf459e",
   "metadata": {},
   "outputs": [],
   "source": [
    "# correlation matrix\n",
    "correlation_matrix = complete_df_encoded.corr()\n",
    "plt.matshow(correlation_matrix, cmap='coolwarm', fignum=1)\n",
    "plt.xticks(range(len(correlation_matrix.columns)), correlation_matrix.columns, rotation='vertical')\n",
    "plt.yticks(range(len(correlation_matrix.columns)), correlation_matrix.columns)\n",
    "plt.colorbar()\n",
    "plt.title(\"Correlation Matrix\")\n",
    "plt.show()\n",
    "\n",
    "# display(correlation_matrix)"
   ]
  },
  {
   "cell_type": "markdown",
   "id": "92668f4a",
   "metadata": {},
   "source": [
    "<a id=\"Data_preprocessing\"></a>\n",
    "### Data-preprocessing"
   ]
  },
  {
   "cell_type": "code",
   "execution_count": 33,
   "id": "442a7ab0",
   "metadata": {},
   "outputs": [],
   "source": [
    "# columns to drop\n",
    "columns_to_drop = [\"id\", \"surge_multiplier\", \"datetime\", \"timezone\", \"latitude\", \"longitude\"] \n",
    "\n",
    "# rows to drop for column \"name\"\n",
    "rows_to_drop = [\"taxi\"]"
   ]
  },
  {
   "cell_type": "code",
   "execution_count": 34,
   "id": "09dc2c8a",
   "metadata": {},
   "outputs": [],
   "source": [
    "df_cleaned = df.copy()"
   ]
  },
  {
   "cell_type": "code",
   "execution_count": 35,
   "id": "320498c7",
   "metadata": {},
   "outputs": [],
   "source": [
    "df_cleaned = df_cleaned.drop(columns=columns_to_drop)\n",
    "df_cleaned = df_cleaned.convert_dtypes()\n",
    "df_cleaned = df_cleaned[df_cleaned[\"name\"] != \"Taxi\"]\n",
    "df_cleaned = df_cleaned.drop_duplicates()"
   ]
  },
  {
   "cell_type": "code",
   "execution_count": 36,
   "id": "68c95224",
   "metadata": {},
   "outputs": [],
   "source": [
    "# calculating Z score for \"price\" column\n",
    "df_cleaned = df_cleaned.dropna()\n",
    "# calculate for each name the average price and standard deviation\n",
    "price_mean = df_cleaned.groupby(\"name\")[\"price\"].mean()\n",
    "price_std = df_cleaned.groupby(\"name\")[\"price\"].std()\n",
    "\n",
    "# df_cleaned = df_cleaned[df_cleaned[\"price_zscore\"] <= max_zscore]\n",
    "\n",
    "# price_mean = df[\"price\"].mean()\n",
    "# price_std = df[\"price\"].std()\n",
    "# df[\"price_zscore\"] = (df[\"price\"] - price_mean) / price_std\n",
    "\n",
    "# # filtering out rows with Z score > 3\n",
    "# max_zscore = 3\n",
    "# df = df[df[\"price_zscore\"].abs() <= max_zscore]\n",
    "\n",
    "# dropping the \"price_zscore\" column\n",
    "# df_cleaned = df_cleaned.drop(columns=[\"price_zscore\", \"price_mean\", \"price_std\"])"
   ]
  },
  {
   "cell_type": "code",
   "execution_count": 37,
   "id": "9f3a2ccb",
   "metadata": {},
   "outputs": [],
   "source": [
    "# remove the rows where the price is more than 3 standard deviations away from the mean\n",
    "df_cleaned = df_cleaned.join(price_mean, on=\"name\", rsuffix=\"_mean\")\n",
    "df_cleaned = df_cleaned.join(price_std, on=\"name\", rsuffix=\"_std\")\n",
    "df_cleaned[\"price_zscore\"] = (df_cleaned[\"price\"] - df_cleaned[\"price_mean\"]) / df_cleaned[\"price_std\"]\n",
    "\n",
    "df_cleaned = df_cleaned[df_cleaned[\"price_zscore\"] >= -3]\n",
    "df_cleaned = df_cleaned[df_cleaned[\"price_zscore\"] <= 2.2]"
   ]
  },
  {
   "cell_type": "code",
   "execution_count": 38,
   "id": "f622ae63",
   "metadata": {},
   "outputs": [],
   "source": [
    "label_encoder = LabelEncoder()\n",
    "df_cleaned['name'] = label_encoder.fit_transform(df_cleaned['name'])\n",
    "df_cleaned[\"source\"] = label_encoder.fit_transform(df_cleaned[\"source\"])\n",
    "df_cleaned[\"destination\"] = label_encoder.fit_transform(df_cleaned[\"destination\"])"
   ]
  },
  {
   "cell_type": "code",
   "execution_count": 39,
   "id": "ccf974b8",
   "metadata": {},
   "outputs": [],
   "source": [
    "df_cleaned = df_cleaned.drop(columns=[\"price_mean\", \"price_std\", \"price_zscore\"])"
   ]
  },
  {
   "cell_type": "code",
   "execution_count": null,
   "id": "36b9dbc4",
   "metadata": {},
   "outputs": [],
   "source": [
    "df_cleaned.boxplot(column='price', by=\"name\", figsize=(10, 6))"
   ]
  },
  {
   "cell_type": "code",
   "execution_count": null,
   "id": "882c5ba6",
   "metadata": {},
   "outputs": [],
   "source": [
    "sns.pairplot(df_cleaned)"
   ]
  },
  {
   "cell_type": "markdown",
   "id": "4fb392a2",
   "metadata": {},
   "source": [
    "# Creating the model\n",
    "Here we will be creating a RandomForestReggresion model.\n",
    "\n",
    "But first we will load and create the correct data for the model"
   ]
  },
  {
   "cell_type": "code",
   "execution_count": 42,
   "id": "0bb231f1",
   "metadata": {},
   "outputs": [],
   "source": [
    "X = df_cleaned.drop([\"price\"], axis=1)\n",
    "y = df_cleaned[\"price\"]\n",
    "\n",
    "# Split the data into training and test sets\n",
    "X_train, X_test, y_train, y_test = train_test_split(X, y, test_size=0.2, random_state=42)"
   ]
  },
  {
   "cell_type": "markdown",
   "id": "7912a729",
   "metadata": {},
   "source": [
    "### Training the model"
   ]
  },
  {
   "cell_type": "code",
   "execution_count": 43,
   "id": "5b69b9eb",
   "metadata": {},
   "outputs": [],
   "source": [
    "# best parameters calculated using GridSearchCV\n",
    "best_params = {\n",
    "    'bootstrap': True,\n",
    "    'max_depth': 20,\n",
    "    'min_samples_leaf': 4,\n",
    "    'min_samples_split': 2,\n",
    "    'n_estimators': 100\n",
    " }"
   ]
  },
  {
   "cell_type": "code",
   "execution_count": null,
   "id": "62c37355",
   "metadata": {},
   "outputs": [],
   "source": [
    "# Train the model with the best parameters\n",
    "best_rf = RandomForestRegressor(**best_params, oob_score=True)\n",
    "best_rf.fit(X_train, y_train)"
   ]
  },
  {
   "cell_type": "markdown",
   "id": "471bdde9",
   "metadata": {},
   "source": [
    "### Testing the model"
   ]
  },
  {
   "cell_type": "code",
   "execution_count": null,
   "id": "a3761735",
   "metadata": {},
   "outputs": [],
   "source": [
    "# Evaluating the model\n",
    "y_pred = best_rf.predict(X_test)\n",
    "mae = mean_absolute_error(y_test, y_pred)\n",
    "mse = mean_squared_error(y_test, y_pred)\n",
    "r2 = r2_score(y_test, y_pred)\n",
    "\n",
    "print(f\"Mean Absolute Error: {mae}\")\n",
    "print(f\"Mean Squared Error: {mse}\")\n",
    "print(f\"R^2 Score: {r2}\")\n",
    "print(f\"OOB Score: {best_rf.oob_score_}\")"
   ]
  },
  {
   "cell_type": "markdown",
   "id": "125c56d6",
   "metadata": {},
   "source": [
    "Mean Absolute Error: 1.1143601504075586\n",
    "Mean Squared Error: 2.980089376956178\n",
    "R^2 Score: 0.9556330199990544\n",
    "OOB Score: 0.9536688307985068"
   ]
  },
  {
   "cell_type": "code",
   "execution_count": null,
   "id": "9670b2cd",
   "metadata": {},
   "outputs": [],
   "source": [
    "# plot the actual vs predicted price\n",
    "fig, ax = plt.subplots(1, 2, figsize=(20, 6))\n",
    "ax[0].scatter(y_test, y_pred, alpha=0.2, marker='o', linewidths=0)\n",
    "ax[0].plot([min(y_test), max(y_test)], [min(y_test), max(y_test)], 'r--')\n",
    "ax[0].grid(True)\n",
    "ax[0].set_xlabel('Actual Price')\n",
    "ax[0].set_ylabel('Predicted Price')\n",
    "ax[0].set_title('Actual vs Predicted Price (XGBoost)')\n",
    "sns.kdeplot(y_test, label='Actual prices', fill=True, color='blue')\n",
    "sns.kdeplot(y_pred, label='Predicted prices' , fill=True, color='orange')\n",
    "ax[1].set_xlabel('Price')\n",
    "ax[1].grid(True)\n",
    "ax[1].set_ylabel('Density')\n",
    "ax[1].set_title('\"Distribution of Actual vs. Predicted Values\"')\n",
    "ax[1].legend()\n",
    "plt.show()"
   ]
  },
  {
   "cell_type": "code",
   "execution_count": null,
   "id": "14614ee7",
   "metadata": {},
   "outputs": [],
   "source": [
    "# heat map\n",
    "\n",
    "plt.figure(figsize=(10, 8))\n",
    "sns.heatmap(df_cleaned.corr(), annot=True, cmap='coolwarm', fmt='.2f')\n",
    "plt.title(\"Correlation Matrix\")\n",
    "plt.show()"
   ]
  },
  {
   "cell_type": "code",
   "execution_count": null,
   "id": "5a4bcf30",
   "metadata": {},
   "outputs": [],
   "source": []
  },
  {
   "cell_type": "code",
   "execution_count": null,
   "id": "9b838010",
   "metadata": {},
   "outputs": [],
   "source": [
    "# Feature importances\n",
    "# This plot will show the importance of each feature in the model when it comes to predicting the target variable.\n",
    "importances = best_rf.feature_importances_\n",
    "forest_importances = pd.Series(importances, index=X.columns)\n",
    "\n",
    "fig, ax = plt.subplots()\n",
    "forest_importances.plot.bar(ax=ax)\n",
    "ax.set_title(\"Feature importances using MDI\")\n",
    "ax.set_ylabel(\"Mean decrease in impurity\")\n",
    "fig.tight_layout()"
   ]
  },
  {
   "cell_type": "code",
   "execution_count": null,
   "id": "6abea4b0",
   "metadata": {},
   "outputs": [],
   "source": [
    "forest_importances"
   ]
  }
 ],
 "metadata": {
  "kernelspec": {
   "display_name": "Python 3 (ipykernel)",
   "language": "python",
   "name": "python3"
  },
  "language_info": {
   "codemirror_mode": {
    "name": "ipython",
    "version": 3
   },
   "file_extension": ".py",
   "mimetype": "text/x-python",
   "name": "python",
   "nbconvert_exporter": "python",
   "pygments_lexer": "ipython3",
   "version": "3.12.4"
  }
 },
 "nbformat": 4,
 "nbformat_minor": 5
}
